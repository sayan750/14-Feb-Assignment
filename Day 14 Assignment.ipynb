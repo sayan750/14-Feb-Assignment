{
 "cells": [
  {
   "cell_type": "markdown",
   "id": "2d590a2d",
   "metadata": {},
   "source": [
    "### Q1.\n",
    "\n",
    "**Multithreading in Python allows you to run multiple threads of execution concurrently within a single process. This can help improve the performance of your Python code, particularly when dealing with CPU-bound tasks that can benefit from parallelization.**\n",
    "\n",
    "**Multithreading is used in Python to achieve concurrency, allowing programs to perform multiple tasks simultaneously. This can be particularly useful in programs that involve waiting for input or output, as other tasks can continue to execute while waiting.**\n",
    "\n",
    "**The threading module is used to handle threads in Python.**"
   ]
  },
  {
   "cell_type": "markdown",
   "id": "67b454f9",
   "metadata": {},
   "source": [
    "### Q2.\n",
    "\n",
    "**The threading module in Python is used to create and manage threads, which are a form of lightweight processes that can run in parallel to each other within a single program.**\n",
    "\n",
    "**activeCount:- This function returns the number of currently active Thread objects in the program.**\n",
    "\n",
    "**currentThread:- This function returns a reference to the current Thread object. This can be useful for accessing information about the currently executing thread, such as its name or ID.**\n",
    "\n",
    "**enumerate:- This function returns a list of all Thread objects that are currently active in the program.**"
   ]
  },
  {
   "cell_type": "markdown",
   "id": "e03429d5",
   "metadata": {},
   "source": [
    "### Q3.\n",
    "\n",
    "**run:- This function is used in Python to define the code that will be executed when a new thread is started using the Thread class.When the start() method of the Thread object is called, the run() method is executed in a separate thread of execution.**\n",
    "\n",
    "**start:- This function is used to start a new thread of execution using the Thread class in Python. When this method is called, a new thread is created, and the run() method of the thread is executed in a separate thread of execution.**\n",
    "\n",
    "**join:- This function is used to block the current thread of execution until a specified thread has finished executing. When the join() method is called on a thread, the current thread will wait for the specified thread to complete before continuing its execution.**\n",
    "\n",
    "**isAlive:-  This function is used to check whether a thread is currently executing or not. When called on a thread object, it returns True if the thread is currently executing and False otherwise.**"
   ]
  },
  {
   "cell_type": "markdown",
   "id": "66bebddd",
   "metadata": {},
   "source": [
    "### Q4."
   ]
  },
  {
   "cell_type": "code",
   "execution_count": 22,
   "id": "c5d4d26b",
   "metadata": {},
   "outputs": [],
   "source": [
    "import threading\n",
    "\n",
    "def lst_square():\n",
    "    for i in range(1,6):\n",
    "        print(f\"{i} sqaure is {i*i}\")\n",
    "        \n",
    "def lst_cube():\n",
    "    for i in range(1,6):\n",
    "        print(f\"{i} cubed is {i*i*i}\")"
   ]
  },
  {
   "cell_type": "code",
   "execution_count": 23,
   "id": "ec86d341",
   "metadata": {},
   "outputs": [
    {
     "name": "stdout",
     "output_type": "stream",
     "text": [
      "1 sqaure is 1\n",
      "2 sqaure is 4\n",
      "3 sqaure is 9\n",
      "4 sqaure is 16\n",
      "5 sqaure is 25\n",
      "1 cubed is 1\n",
      "2 cubed is 8\n",
      "3 cubed is 27\n",
      "4 cubed is 64\n",
      "5 cubed is 125\n"
     ]
    }
   ],
   "source": [
    "if __name__ == \"__main__\":\n",
    "    \n",
    "    c = threading.Thread(target=lst_square) \n",
    "    g = threading.Thread(target=lst_cube)\n",
    "    \n",
    "    c.start()\n",
    "    g.start()\n",
    "    \n",
    "    c.join()\n",
    "    g.join()"
   ]
  },
  {
   "cell_type": "markdown",
   "id": "10702d43",
   "metadata": {},
   "source": [
    "### Q5.\n",
    "\n",
    "**Advance:- Multithreading can improve performance by allowing different parts of a program to run concurrently on different cores of the CPU. Multithreading can make a program more responsive to user input by allowing the program to perform multiple tasks at the same time.**\n",
    "\n",
    "**Disadvantage:- Multithreaded programming is more complex than single-threaded programming. Multithreaded programs can be difficult to debug.**"
   ]
  },
  {
   "cell_type": "markdown",
   "id": "e441bee8",
   "metadata": {},
   "source": [
    "### Q6.\n",
    "\n",
    "**A deadlock is a situation where two or more threads are blocked and waiting for each other to release resources that they hold.**\n",
    "\n",
    "**A race condition, on the other hand, is a situation where the output of a program depends on the order in which multiple threads execute.**"
   ]
  },
  {
   "cell_type": "code",
   "execution_count": null,
   "id": "0b1d0224",
   "metadata": {},
   "outputs": [],
   "source": []
  },
  {
   "cell_type": "code",
   "execution_count": null,
   "id": "110bbc36",
   "metadata": {},
   "outputs": [],
   "source": []
  },
  {
   "cell_type": "code",
   "execution_count": null,
   "id": "61eaf94c",
   "metadata": {},
   "outputs": [],
   "source": []
  }
 ],
 "metadata": {
  "kernelspec": {
   "display_name": "Python 3 (ipykernel)",
   "language": "python",
   "name": "python3"
  },
  "language_info": {
   "codemirror_mode": {
    "name": "ipython",
    "version": 3
   },
   "file_extension": ".py",
   "mimetype": "text/x-python",
   "name": "python",
   "nbconvert_exporter": "python",
   "pygments_lexer": "ipython3",
   "version": "3.9.12"
  }
 },
 "nbformat": 4,
 "nbformat_minor": 5
}
